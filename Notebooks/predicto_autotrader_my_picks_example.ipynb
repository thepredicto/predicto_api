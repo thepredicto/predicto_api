{
 "cells": [
  {
   "cell_type": "markdown",
   "metadata": {},
   "source": [
    "## Complete example for an autotrader that uses Predicto \"My Picks\"\n",
    "You can use this notebook daily to submit yout latest Trade Picks that you have picked in (https://predic.to/autotrader) \n",
    "\n",
    "\n",
    "### For Predicto authentication\n",
    "To use predicto api and reproduce this notebook, you'll need to have a valid Predicto account. \n",
    "If you don't have one, you can create one here: https://predic.to and get a free trial period.\n",
    "\n",
    "To authenticate you'll need an api session id. To retrieve it, login to https://predic.to and head to your [settings page](https://predic.to/account). Then paste it in the `api_session_id` variable below.\n",
    "\n",
    "If you get any exception/error while running below code, please make sure your api session id is correct and your subscription/trial is not expired.\n",
    "Please note that there is a limit to the number of requests you can make per minute, depending on your account type.\n",
    "\n",
    "### For Alpaca authentication\n",
    "You'll need an alpaca.markets account. Then you can retrieve your API Key ID and Endpoint from your account page. You can use either paper money or real money. We recommend to experiment with a paper money account first.\n",
    "\n",
    "More info about Alpaca trade api can be found here: https://github.com/alpacahq/alpaca-trade-api-python/"
   ]
  },
  {
   "cell_type": "markdown",
   "metadata": {},
   "source": [
    "### Import needed packages"
   ]
  },
  {
   "cell_type": "code",
   "execution_count": 9,
   "metadata": {},
   "outputs": [],
   "source": [
    "import sys\n",
    "sys.path.append(\"../predicto_api/\")\n",
    "\n",
    "import pandas as pd\n",
    "\n",
    "from predicto_api_wrapper import PredictoApiWrapper, TradeAction\n",
    "from alpaca_api_wrapper import AlpacaApiWrapper"
   ]
  },
  {
   "cell_type": "markdown",
   "metadata": {},
   "source": [
    "### Prepare and initialize our Alpaca API wrapper\n",
    "You'll need to have a valid Alpaca account as mentioned above, and replace below variables with your own credentials."
   ]
  },
  {
   "cell_type": "code",
   "execution_count": 16,
   "metadata": {},
   "outputs": [],
   "source": [
    "alpaca_api_endpoint = 'https://paper-api.alpaca.markets' # use paper money endpoint for now (test env)\n",
    "alpaca_api_key_id = 'xxxxxxxxxxxxxxxxxxxxxxxxxxxxxxxxxxxxxx'\n",
    "alpaca_api_secret_key = 'xxxxxxxxxxxxxxxxxxxxxxxxxxxxxxxxxxxxxx'\n",
    "\n",
    "alpaca_wrapper = AlpacaApiWrapper(alpaca_api_endpoint, alpaca_api_key_id, alpaca_api_secret_key)"
   ]
  },
  {
   "cell_type": "markdown",
   "metadata": {},
   "source": [
    "### Prepare and initialize our Predicto wrapper\n",
    "You'll need to have a valid Predicto account as mentioned above, and get an api session id. Then replace the `api_session_id` variable below"
   ]
  },
  {
   "cell_type": "code",
   "execution_count": 15,
   "metadata": {},
   "outputs": [],
   "source": [
    "predicto_api_session_id = 'xxxxxxxxxxxxxxxxxxxxxxxxxxxxxxxxxxxxxx'\n",
    "predicto_api_wrapper = PredictoApiWrapper(predicto_api_session_id)\n",
    "predicto_api_wrapper.set_alpaca_api_wrapper(alpaca_wrapper)"
   ]
  },
  {
   "cell_type": "markdown",
   "metadata": {},
   "source": [
    "### Make sure our alpaca keys work as expected\n",
    "Retrieve some latest prices"
   ]
  },
  {
   "cell_type": "code",
   "execution_count": 12,
   "metadata": {},
   "outputs": [
    {
     "name": "stdout",
     "output_type": "stream",
     "text": [
      "Latest price of AAPL is:  124.34\n",
      "Latest price of FB   is:  283.28\n",
      "Latest price of MSFT is:  215.98\n",
      "Latest price of NIO  is:  46.49\n",
      "Latest price of TSLA is:  657.22\n",
      "Latest price of V    is:  212.69\n",
      "Looks good 😀\n"
     ]
    }
   ],
   "source": [
    "print('Latest price of AAPL is: ', alpaca_wrapper.get_latest_price('AAPL'))\n",
    "print('Latest price of FB   is: ', alpaca_wrapper.get_latest_price('FB'))\n",
    "print('Latest price of MSFT is: ', alpaca_wrapper.get_latest_price('MSFT'))\n",
    "print('Latest price of NIO  is: ', alpaca_wrapper.get_latest_price('NIO'))\n",
    "print('Latest price of TSLA is: ', alpaca_wrapper.get_latest_price('TSLA'))\n",
    "print('Latest price of V    is: ', alpaca_wrapper.get_latest_price('V'))\n",
    "\n",
    "print('Looks good \\N{grinning face}')"
   ]
  },
  {
   "cell_type": "markdown",
   "metadata": {},
   "source": [
    "### Let's make sure our Predicto Key works as expected\n",
    "Retrieve supported stocks "
   ]
  },
  {
   "cell_type": "code",
   "execution_count": 5,
   "metadata": {},
   "outputs": [
    {
     "name": "stdout",
     "output_type": "stream",
     "text": [
      "Total tickers supported: 47\n",
      "Here is a sample:\n"
     ]
    },
    {
     "data": {
      "text/html": [
       "<div>\n",
       "<style scoped>\n",
       "    .dataframe tbody tr th:only-of-type {\n",
       "        vertical-align: middle;\n",
       "    }\n",
       "\n",
       "    .dataframe tbody tr th {\n",
       "        vertical-align: top;\n",
       "    }\n",
       "\n",
       "    .dataframe thead th {\n",
       "        text-align: right;\n",
       "    }\n",
       "</style>\n",
       "<table border=\"1\" class=\"dataframe\">\n",
       "  <thead>\n",
       "    <tr style=\"text-align: right;\">\n",
       "      <th></th>\n",
       "      <th>RelatedStock</th>\n",
       "      <th>RelatedCompany</th>\n",
       "    </tr>\n",
       "  </thead>\n",
       "  <tbody>\n",
       "    <tr>\n",
       "      <td>0</td>\n",
       "      <td>AMD</td>\n",
       "      <td>AMD</td>\n",
       "    </tr>\n",
       "    <tr>\n",
       "      <td>1</td>\n",
       "      <td>ATVI</td>\n",
       "      <td>Activision</td>\n",
       "    </tr>\n",
       "    <tr>\n",
       "      <td>2</td>\n",
       "      <td>BABA</td>\n",
       "      <td>Alibaba</td>\n",
       "    </tr>\n",
       "    <tr>\n",
       "      <td>3</td>\n",
       "      <td>AMZN</td>\n",
       "      <td>Amazon</td>\n",
       "    </tr>\n",
       "    <tr>\n",
       "      <td>4</td>\n",
       "      <td>AAL</td>\n",
       "      <td>American Airlines</td>\n",
       "    </tr>\n",
       "    <tr>\n",
       "      <td>5</td>\n",
       "      <td>AAPL</td>\n",
       "      <td>Apple</td>\n",
       "    </tr>\n",
       "    <tr>\n",
       "      <td>6</td>\n",
       "      <td>BIDU</td>\n",
       "      <td>Baidu</td>\n",
       "    </tr>\n",
       "    <tr>\n",
       "      <td>7</td>\n",
       "      <td>BAC</td>\n",
       "      <td>Bank of America</td>\n",
       "    </tr>\n",
       "    <tr>\n",
       "      <td>8</td>\n",
       "      <td>BKNG</td>\n",
       "      <td>Booking Holdings</td>\n",
       "    </tr>\n",
       "    <tr>\n",
       "      <td>9</td>\n",
       "      <td>CVX</td>\n",
       "      <td>Chevron</td>\n",
       "    </tr>\n",
       "    <tr>\n",
       "      <td>10</td>\n",
       "      <td>KO</td>\n",
       "      <td>Coca Cola</td>\n",
       "    </tr>\n",
       "    <tr>\n",
       "      <td>11</td>\n",
       "      <td>DAL</td>\n",
       "      <td>Delta Airlines</td>\n",
       "    </tr>\n",
       "    <tr>\n",
       "      <td>12</td>\n",
       "      <td>DIS</td>\n",
       "      <td>Disney</td>\n",
       "    </tr>\n",
       "    <tr>\n",
       "      <td>13</td>\n",
       "      <td>DBX</td>\n",
       "      <td>Dropbox</td>\n",
       "    </tr>\n",
       "    <tr>\n",
       "      <td>14</td>\n",
       "      <td>EBAY</td>\n",
       "      <td>Ebay</td>\n",
       "    </tr>\n",
       "  </tbody>\n",
       "</table>\n",
       "</div>"
      ],
      "text/plain": [
       "   RelatedStock     RelatedCompany\n",
       "0           AMD                AMD\n",
       "1          ATVI         Activision\n",
       "2          BABA            Alibaba\n",
       "3          AMZN             Amazon\n",
       "4           AAL  American Airlines\n",
       "5          AAPL              Apple\n",
       "6          BIDU              Baidu\n",
       "7           BAC    Bank of America\n",
       "8          BKNG   Booking Holdings\n",
       "9           CVX            Chevron\n",
       "10           KO          Coca Cola\n",
       "11          DAL     Delta Airlines\n",
       "12          DIS             Disney\n",
       "13          DBX            Dropbox\n",
       "14         EBAY               Ebay"
      ]
     },
     "execution_count": 5,
     "metadata": {},
     "output_type": "execute_result"
    }
   ],
   "source": [
    "# Get all supported stocks\n",
    "stocks_json = predicto_api_wrapper.get_supported_tickers()\n",
    "stocks_df = pd.DataFrame(stocks_json)\n",
    "\n",
    "# print some information\n",
    "print('Total tickers supported: {0}'.format(len(stocks_df)))\n",
    "print('Here is a sample:')\n",
    "stocks_df.head(15)"
   ]
  },
  {
   "cell_type": "markdown",
   "metadata": {},
   "source": [
    "# We are ready! \n",
    "# Let's run our autotrader using the Trade Picks we selected at Predicto website!\n",
    "Below call will get your latest Predicto Trade Picks and will submit them all!\n",
    "\n",
    "## You can run this daily before market open (9.30am E.T.)\n",
    "Feel free to re-adjust below parameters to match your criteria\n",
    "\n",
    "    investmentAmountPerTrade : how much money to use per trade (note we'll submit an order for as many stocks as possible up to this number. If it's not enough for a single stock we'll skip)"
   ]
  },
  {
   "cell_type": "code",
   "execution_count": 14,
   "metadata": {},
   "outputs": [
    {
     "name": "stdout",
     "output_type": "stream",
     "text": [
      "Processing Predicto \"My\" Trade Picks from 2020-12-07\n",
      "- More details https://predic.to/exploreroi?my=1&sdate=2020-12-07\n",
      "\n",
      "Processing 1/2, Symbol: LYFT\n",
      "\t Expected change : 0.04 !\n",
      "\t Trade Action    : Buy !\n",
      "\t Avg Uncertainty : 0.08 !\n",
      "\t Avg ROI of model: 0.02 !\n",
      "\n",
      "> Alpaca: Submitting bracket order...\n",
      "------------------------\n",
      "Expected price: 46.555\n",
      "Actual   price: 46.51\n",
      "Original stopLossPrice: 46.1219592753\n",
      "New stopLossPrice     : 46.07737785187849\n",
      "Success: submit_bracket_order ID: 54edc407-8282-4f1e-892d-0530f55d2fee\n",
      "------------------------\n",
      "\n",
      "Processing 2/2, Symbol: NFLX\n",
      "\t Expected change : -0.02 !\n",
      "\t Trade Action    : Sell !\n",
      "\t Avg Uncertainty : 0.05 !\n",
      "\t Avg ROI of model: 0.00 !\n",
      "\n",
      "> Alpaca: Submitting bracket order...\n",
      "------------------------\n",
      "Expected price: 515.78\n",
      "Actual   price: 512.85\n",
      "Original stopLossPrice: 518.6334760473\n",
      "New stopLossPrice     : 515.6872662585944\n",
      "\t Skipping: Exception: asset NFLX cannot be sold short\n",
      "\n",
      "Submitted 1 hedged orders: ['LYFT']\n"
     ]
    }
   ],
   "source": [
    "predicto_api_wrapper.submit_my_latest_trade_picks(\n",
    "    investmentAmountPerTrade=1000)"
   ]
  },
  {
   "cell_type": "markdown",
   "metadata": {},
   "source": [
    "# We  submitted our Personal hand picked Trade Picks !\n",
    "## Keep in mind that Alpaca doesn't allow short selling for some stocks, that's why we got an error for our NFLX order error above.\n",
    "Those orders will be closed once their take-profit or stop-loss price we set are hit.\n",
    "\n",
    "You can inspect your oders at https://app.alpaca.markets/paper/dashboard/orders\n",
    "\n",
    "You can schedule this script to run daily before market open.\n",
    "\n",
    "Make sure you understand the risks if you are using real money!"
   ]
  }
 ],
 "metadata": {
  "kernelspec": {
   "display_name": "Python 3.7.4 64-bit ('base': conda)",
   "language": "python",
   "name": "python37464bitbasecondae9fc494a299c4db0ac34ab19a1693561"
  },
  "language_info": {
   "codemirror_mode": {
    "name": "ipython",
    "version": 3
   },
   "file_extension": ".py",
   "mimetype": "text/x-python",
   "name": "python",
   "nbconvert_exporter": "python",
   "pygments_lexer": "ipython3",
   "version": "3.7.4"
  }
 },
 "nbformat": 4,
 "nbformat_minor": 2
}
