{
 "cells": [
  {
   "cell_type": "markdown",
   "metadata": {},
   "source": [
    "## Use Predicto Trade Picks with Alpaca to place hedged orders\n",
    "Sample usage to retrieve latest trade picks and submit to alpaca programmatically \n",
    "(https://predic.to) (https://alpaca.markets)\n",
    "\n",
    "This is a simple example on how to retrieve latest trade pick for a ticker and then place an alpaca order with target price and stoploss price.\n",
    "\n",
    "### For Predicto authentication\n",
    "To use predicto api and reproduce this notebook, you'll need to have a valid Predicto account. \n",
    "If you don't have one, you can create one here: https://predic.to and get a free trial period.\n",
    "\n",
    "To authenticate you'll need an api key. To retrieve it, login to https://predic.to and head to your [settings page](https://predic.to/account). Then paste it in the `predicto_api_key` variable below.\n",
    "\n",
    "If you get any exception/error while running below code, please make sure your api key is correct and your subscription/trial is not expired.\n",
    "Please note that there is a limit to the number of requests you can make per minute, depending on your account type.\n",
    "\n",
    "### For Alpaca authentication\n",
    "You'll need an alpaca.markets account. Then you can retrieve your API Key ID and Endpoint from your account page. You can use either paper money or real money. We recommend to experiment with a paper money account first.\n",
    "\n",
    "More info about Alpaca trade api can be found here: https://github.com/alpacahq/alpaca-trade-api-python/"
   ]
  },
  {
   "cell_type": "markdown",
   "metadata": {},
   "source": [
    "### Import needed packages"
   ]
  },
  {
   "cell_type": "code",
   "execution_count": 1,
   "metadata": {},
   "outputs": [],
   "source": [
    "import sys\n",
    "sys.path.append(\"../predicto_api/\")\n",
    "\n",
    "import time\n",
    "import requests\n",
    "import pandas as pd\n",
    "import matplotlib.pyplot as plt\n",
    "from datetime import datetime, timedelta\n",
    "import IPython.display as display\n",
    "\n",
    "import alpaca_trade_api as tradeapi\n",
    "\n",
    "from predicto_api_wrapper import PredictoApiWrapper, TradeAction, TradeOrderType\n",
    "from alpaca_api_wrapper import AlpacaApiWrapper"
   ]
  },
  {
   "cell_type": "markdown",
   "metadata": {},
   "source": [
    "### Prepare and initialize our Predicto wrapper\n",
    "You'll need to have a valid Predicto account as mentioned above, and get an api key. Then replace the `predicto_api_key` variable below"
   ]
  },
  {
   "cell_type": "code",
   "execution_count": 2,
   "metadata": {},
   "outputs": [],
   "source": [
    "predicto_api_key = 'xxxxxxxxxxxxxxxxxxxxxxxxxxxxxxxxxxxxxx'\n",
    "predicto_api_wrapper = PredictoApiWrapper(predicto_api_key)"
   ]
  },
  {
   "cell_type": "markdown",
   "metadata": {},
   "source": [
    "### Prepare and initialize our Alpaca API wrapper\n",
    "You'll need to have a valid Alpaca account as mentioned above, and replace below variables with your own credentials."
   ]
  },
  {
   "cell_type": "code",
   "execution_count": 3,
   "metadata": {},
   "outputs": [],
   "source": [
    "alpaca_api_endpoint = 'https://paper-api.alpaca.markets' # use paper money endpoint for now (test env)\n",
    "alpaca_api_key_id = 'xxxxxxxxxxxxxxxxxxxxxxxxxxxxxxxxxxxxxx'\n",
    "alpaca_api_secret_key = 'xxxxxxxxxxxxxxxxxxxxxxxxxxxxxxxxxxxxxx'\n",
    "\n",
    "alpaca_wrapper = AlpacaApiWrapper(alpaca_api_endpoint, alpaca_api_key_id, alpaca_api_secret_key)"
   ]
  },
  {
   "cell_type": "markdown",
   "metadata": {},
   "source": [
    "### Make sure our alpaca keys work as expected\n",
    "Retrieve some latest prices"
   ]
  },
  {
   "cell_type": "code",
   "execution_count": 21,
   "metadata": {},
   "outputs": [
    {
     "name": "stdout",
     "output_type": "stream",
     "text": [
      "Latest price of AAPL is:  122.77\n",
      "Latest price of FB   is:  288.25\n",
      "Latest price of MSFT is:  216.87\n",
      "Latest price of NIO  is:  46.96\n",
      "Latest price of TSLA is:  582.95\n",
      "Latest price of V    is:  212.195\n",
      "Looks good 😀\n"
     ]
    }
   ],
   "source": [
    "print('Latest price of AAPL is: ', alpaca_wrapper.get_latest_price('AAPL'))\n",
    "print('Latest price of FB   is: ', alpaca_wrapper.get_latest_price('FB'))\n",
    "print('Latest price of MSFT is: ', alpaca_wrapper.get_latest_price('MSFT'))\n",
    "print('Latest price of NIO  is: ', alpaca_wrapper.get_latest_price('NIO'))\n",
    "print('Latest price of TSLA is: ', alpaca_wrapper.get_latest_price('TSLA'))\n",
    "print('Latest price of V    is: ', alpaca_wrapper.get_latest_price('V'))\n",
    "\n",
    "print('Looks good \\N{grinning face}')"
   ]
  },
  {
   "cell_type": "markdown",
   "metadata": {},
   "source": [
    "### Let's start by retrieving all supported tickers for Forecasting in Predicto\n",
    "We generate forecasts and trade picks for a limited amount of stocks for the time being"
   ]
  },
  {
   "cell_type": "code",
   "execution_count": 5,
   "metadata": {},
   "outputs": [
    {
     "name": "stdout",
     "output_type": "stream",
     "text": [
      "Total tickers supported: 47\n",
      "Here is a sample:\n"
     ]
    },
    {
     "data": {
      "text/html": [
       "<div>\n",
       "<style scoped>\n",
       "    .dataframe tbody tr th:only-of-type {\n",
       "        vertical-align: middle;\n",
       "    }\n",
       "\n",
       "    .dataframe tbody tr th {\n",
       "        vertical-align: top;\n",
       "    }\n",
       "\n",
       "    .dataframe thead th {\n",
       "        text-align: right;\n",
       "    }\n",
       "</style>\n",
       "<table border=\"1\" class=\"dataframe\">\n",
       "  <thead>\n",
       "    <tr style=\"text-align: right;\">\n",
       "      <th></th>\n",
       "      <th>RelatedStock</th>\n",
       "      <th>RelatedCompany</th>\n",
       "    </tr>\n",
       "  </thead>\n",
       "  <tbody>\n",
       "    <tr>\n",
       "      <td>0</td>\n",
       "      <td>AMD</td>\n",
       "      <td>AMD</td>\n",
       "    </tr>\n",
       "    <tr>\n",
       "      <td>1</td>\n",
       "      <td>ATVI</td>\n",
       "      <td>Activision</td>\n",
       "    </tr>\n",
       "    <tr>\n",
       "      <td>2</td>\n",
       "      <td>BABA</td>\n",
       "      <td>Alibaba</td>\n",
       "    </tr>\n",
       "    <tr>\n",
       "      <td>3</td>\n",
       "      <td>AMZN</td>\n",
       "      <td>Amazon</td>\n",
       "    </tr>\n",
       "    <tr>\n",
       "      <td>4</td>\n",
       "      <td>AAL</td>\n",
       "      <td>American Airlines</td>\n",
       "    </tr>\n",
       "    <tr>\n",
       "      <td>5</td>\n",
       "      <td>AAPL</td>\n",
       "      <td>Apple</td>\n",
       "    </tr>\n",
       "    <tr>\n",
       "      <td>6</td>\n",
       "      <td>BIDU</td>\n",
       "      <td>Baidu</td>\n",
       "    </tr>\n",
       "    <tr>\n",
       "      <td>7</td>\n",
       "      <td>BAC</td>\n",
       "      <td>Bank of America</td>\n",
       "    </tr>\n",
       "    <tr>\n",
       "      <td>8</td>\n",
       "      <td>BKNG</td>\n",
       "      <td>Booking Holdings</td>\n",
       "    </tr>\n",
       "    <tr>\n",
       "      <td>9</td>\n",
       "      <td>CVX</td>\n",
       "      <td>Chevron</td>\n",
       "    </tr>\n",
       "    <tr>\n",
       "      <td>10</td>\n",
       "      <td>KO</td>\n",
       "      <td>Coca Cola</td>\n",
       "    </tr>\n",
       "    <tr>\n",
       "      <td>11</td>\n",
       "      <td>DAL</td>\n",
       "      <td>Delta Airlines</td>\n",
       "    </tr>\n",
       "    <tr>\n",
       "      <td>12</td>\n",
       "      <td>DIS</td>\n",
       "      <td>Disney</td>\n",
       "    </tr>\n",
       "    <tr>\n",
       "      <td>13</td>\n",
       "      <td>DBX</td>\n",
       "      <td>Dropbox</td>\n",
       "    </tr>\n",
       "    <tr>\n",
       "      <td>14</td>\n",
       "      <td>EBAY</td>\n",
       "      <td>Ebay</td>\n",
       "    </tr>\n",
       "  </tbody>\n",
       "</table>\n",
       "</div>"
      ],
      "text/plain": [
       "   RelatedStock     RelatedCompany\n",
       "0           AMD                AMD\n",
       "1          ATVI         Activision\n",
       "2          BABA            Alibaba\n",
       "3          AMZN             Amazon\n",
       "4           AAL  American Airlines\n",
       "5          AAPL              Apple\n",
       "6          BIDU              Baidu\n",
       "7           BAC    Bank of America\n",
       "8          BKNG   Booking Holdings\n",
       "9           CVX            Chevron\n",
       "10           KO          Coca Cola\n",
       "11          DAL     Delta Airlines\n",
       "12          DIS             Disney\n",
       "13          DBX            Dropbox\n",
       "14         EBAY               Ebay"
      ]
     },
     "execution_count": 5,
     "metadata": {},
     "output_type": "execute_result"
    }
   ],
   "source": [
    "# Get all supported stocks\n",
    "stocks_json = predicto_api_wrapper.get_supported_tickers()\n",
    "stocks_df = pd.DataFrame(stocks_json)\n",
    "\n",
    "# print some information\n",
    "print('Total tickers supported: {0}'.format(len(stocks_df)))\n",
    "print('Here is a sample:')\n",
    "stocks_df.head(15)"
   ]
  },
  {
   "cell_type": "markdown",
   "metadata": {},
   "source": [
    "### Let's inspect forecasts and trade picks that were generated yesterday (All forecasts are for 15 days ahead)"
   ]
  },
  {
   "cell_type": "code",
   "execution_count": 6,
   "metadata": {},
   "outputs": [
    {
     "name": "stdout",
     "output_type": "stream",
     "text": [
      "2020-11-30\n"
     ]
    }
   ],
   "source": [
    "sdate = (datetime.today() - timedelta(days=1)).strftime('%Y-%m-%d')\n",
    "print(sdate)"
   ]
  },
  {
   "cell_type": "markdown",
   "metadata": {},
   "source": [
    "### Let's see what forecast we got for Visa Inc (V)\n",
    "We predict an up trend forecast, and recommended action is BUY with entry/target/stopLoss prices"
   ]
  },
  {
   "cell_type": "code",
   "execution_count": 14,
   "metadata": {
    "scrolled": false
   },
   "outputs": [
    {
     "name": "stdout",
     "output_type": "stream",
     "text": [
      "Forecast for V on 2020-11-30\n"
     ]
    },
    {
     "data": {
      "image/png": "[encoded data removed]",
      "text/plain": [
       "<Figure size 432x288 with 1 Axes>"
      ]
     },
     "metadata": {
      "needs_background": "light"
     },
     "output_type": "display_data"
    },
    {
     "name": "stdout",
     "output_type": "stream",
     "text": [
      "            Prediction  Uncertainty\n",
      "2020-12-01  211.357222     0.005530\n",
      "2020-12-02  212.491787     0.008681\n",
      "2020-12-03  213.122432     0.012845\n",
      "2020-12-04  213.588321     0.017380\n",
      "2020-12-05  213.299516     0.020842\n",
      "2020-12-06  213.480570     0.023784\n",
      "2020-12-07  213.263975     0.028644\n",
      "2020-12-08  212.774085     0.033938\n",
      "2020-12-09  212.519855     0.037617\n",
      "2020-12-10  213.569116     0.042350\n",
      "2020-12-11  214.330944     0.046177\n",
      "2020-12-12  214.319051     0.050063\n",
      "2020-12-13  214.653720     0.053888\n",
      "2020-12-14  215.537879     0.056529\n",
      "2020-12-15  215.995569     0.061086\n",
      "\n",
      "Trade Pick generated based on forecast for V on 2020-11-30\n",
      "---------------------------------------\n",
      "Action          : \tBuy\n",
      "Entry price     : \t210.35\n",
      "Target price    : \t213.7373411153\n",
      "StopLoss price  : \t209.5031647212\n",
      "Expiration Date : \tMonday, Dec 14\n",
      "Predicted change: \t1.61 %\n",
      "---------------------------------------\n",
      "\n",
      "\n"
     ]
    }
   ],
   "source": [
    "(forecast_json, trade_pick_json) = predicto_api_wrapper.get_forecast_and_tradepick_info('V', sdate, True)"
   ]
  },
  {
   "cell_type": "markdown",
   "metadata": {},
   "source": [
    "### That seems interesting, let's submit a hedged order to alpaca using above information"
   ]
  },
  {
   "cell_type": "markdown",
   "metadata": {},
   "source": [
    "### First, show all my holding positions in Alpaca paper account\n",
    "It's all fake money btw, it's a paper testing account :)"
   ]
  },
  {
   "cell_type": "code",
   "execution_count": 15,
   "metadata": {},
   "outputs": [
    {
     "name": "stdout",
     "output_type": "stream",
     "text": [
      "Holding 116 shares of WORK\n",
      "Holding 128 shares of LYFT\n",
      "Holding -41 shares of JPM\n",
      "Holding -102 shares of INTC\n",
      "Holding -111 shares of GM\n",
      "Holding -249 shares of DBX\n",
      "Holding -122 shares of DAL\n",
      "Holding -18 shares of BABA\n",
      "Holding 1 shares of AMZN\n",
      "Holding -336 shares of AAL\n"
     ]
    }
   ],
   "source": [
    "positions = alpaca_wrapper.get_holding_positions()"
   ]
  },
  {
   "cell_type": "markdown",
   "metadata": {},
   "source": [
    "### Inspect our V trade pick json"
   ]
  },
  {
   "cell_type": "code",
   "execution_count": 16,
   "metadata": {
    "scrolled": false
   },
   "outputs": [
    {
     "data": {
      "text/plain": [
       "{'Id': 89899,\n",
       " 'Symbol': 'V',\n",
       " 'ModelType': 200,\n",
       " 'StrategyId': 1,\n",
       " 'StartingPrice': 210.35,\n",
       " 'TargetSellPrice': 213.7373411153,\n",
       " 'TargetStopLossPrice': 209.5031647212,\n",
       " 'HorizonDays': 14,\n",
       " 'TradeAction': 1,\n",
       " 'SDate': '2020-11-30',\n",
       " 'ForecastSlope': 0.0010841045,\n",
       " 'BenchmarkROI': None,\n",
       " 'ActualROI': None,\n",
       " 'ActualSellPrice': None,\n",
       " 'ActualSellDate': None,\n",
       " 'HoldingDays': None,\n",
       " 'AvgUncertainty': 0.0333254621,\n",
       " 'Last2WeeksStdPctChange': 0.0118145172,\n",
       " 'Last2WeeksPricePctChange': -0.011048425,\n",
       " 'RelatedStock': 'V',\n",
       " 'RelatedCompany': 'Visa',\n",
       " 'DayOfWeek': 0,\n",
       " 'ExpirationDate': 'Monday, Dec 14',\n",
       " 'TradeTotalDays': None,\n",
       " 'TargetPricePctChange': 0.0161033569,\n",
       " 'TargetPricePctChangeAbs': 0.0161033569,\n",
       " 'ModelTypeStr': 'models_avg_tradeable',\n",
       " 'SDateReadable': 'Monday, Nov 30',\n",
       " 'AverageROI': 0.0064545607,\n",
       " 'ActualROIZeroForOngoing': 0.0}"
      ]
     },
     "execution_count": 16,
     "metadata": {},
     "output_type": "execute_result"
    }
   ],
   "source": [
    "trade_pick_json"
   ]
  },
  {
   "cell_type": "markdown",
   "metadata": {},
   "source": [
    "### Prepare our alpaca order parameters\n",
    "Symbol, TradeAction, Investment amount, Entry price, exit price, stop loss price etc"
   ]
  },
  {
   "cell_type": "code",
   "execution_count": 22,
   "metadata": {},
   "outputs": [],
   "source": [
    "# Generic parameters like symbol, trade action etc\n",
    "symbol = trade_pick_json['Symbol']\n",
    "trade_action = trade_pick_json['TradeAction']\n",
    "generated_date = trade_pick_json['SDate']\n",
    "\n",
    "# Entry price, exit price, stop loss price\n",
    "entry_price = trade_pick_json['StartingPrice']\n",
    "target_price = trade_pick_json['TargetSellPrice']\n",
    "stop_loss_price = trade_pick_json['TargetStopLossPrice']\n",
    "\n",
    "# How many stocks to BUY or SELL? You need to provide a max Investment amount available, and quantity\n",
    "# - if quantity is None or 0, entire investment amount will be used\n",
    "# For now let's assume we will use $1000 for our next trade\n",
    "investmentAmount = 1000\n",
    "quantity = None"
   ]
  },
  {
   "cell_type": "markdown",
   "metadata": {},
   "source": [
    "### Step 1 of 2: Submit our market order to Alpaca\n",
    "### Be Carefull: if action is SELL this mean that we are going to short the stock! Make sure you understand the risks of shorting before using those trade orders. Otherwise you can choose to only use BUY orders.\n",
    "If you see any error, check the error msg. \n",
    "\n",
    "For example, our alpaca api wrapper only allows you to submit orders when the market is open! \n",
    "\n",
    "This is to make sure that market order can be filled so that we can go ahead and set target price and stop loss orders for it."
   ]
  },
  {
   "cell_type": "code",
   "execution_count": 18,
   "metadata": {},
   "outputs": [
    {
     "name": "stdout",
     "output_type": "stream",
     "text": [
      "Expected price: 210.35\n",
      "Actual   price: 212.22\n",
      "Original stopLossPrice: 209.5031647212\n",
      "New stopLossPrice     : 211.3656364018686\n",
      "Success: submit_market_order ID: e2030d55-a355-47f3-94d5-a2fe8b86a9bb\n",
      "\n",
      "Order details\n",
      "newStartingPrice :  212.22\n",
      "newTargetPrice   :  213.7373411153\n",
      "newStopLossPrice :  211.3656364018686\n",
      "newQuantity      :  4\n",
      "\n",
      "(Order({   'asset_class': 'us_equity',\n",
      "    'asset_id': '4f5baf1e-0e9b-4d85-b88a-d874dc4a3c42',\n",
      "    'canceled_at': None,\n",
      "    'client_order_id': 'Predicto__2020-11-30_V_1_market',\n",
      "    'created_at': '2020-12-01T18:53:32.485883Z',\n",
      "    'expired_at': None,\n",
      "    'extended_hours': False,\n",
      "    'failed_at': None,\n",
      "    'filled_at': None,\n",
      "    'filled_avg_price': None,\n",
      "    'filled_qty': '0',\n",
      "    'hwm': None,\n",
      "    'id': 'e2030d55-a355-47f3-94d5-a2fe8b86a9bb',\n",
      "    'legs': None,\n",
      "    'limit_price': None,\n",
      "    'order_class': '',\n",
      "    'order_type': 'market',\n",
      "    'qty': '4',\n",
      "    'replaced_at': None,\n",
      "    'replaced_by': None,\n",
      "    'replaces': None,\n",
      "    'side': 'buy',\n",
      "    'status': 'accepted',\n",
      "    'stop_price': None,\n",
      "    'submitted_at': '2020-12-01T18:53:32.4737Z',\n",
      "    'symbol': 'V',\n",
      "    'time_in_force': 'gtc',\n",
      "    'trail_percent': None,\n",
      "    'trail_price': None,\n",
      "    'type': 'market',\n",
      "    'updated_at': '2020-12-01T18:53:32.485883Z'}), 212.22, 213.7373411153, 211.3656364018686, 4)\n"
     ]
    }
   ],
   "source": [
    "# Create a client order id, for easy tracking\n",
    "client_market_order_id = 'Predicto__{0}_{1}_{2}_market'.format(generated_date, symbol, trade_action)\n",
    "\n",
    "# submit the order to alpaca\n",
    "market_order_result = alpaca_wrapper.submit_order(\n",
    "                                            TradeOrderType.Market,\n",
    "                                            TradeAction(int(trade_action)), \n",
    "                                            symbol, \n",
    "                                            quantity, \n",
    "                                            investmentAmount, \n",
    "                                            entry_price, \n",
    "                                            target_price, \n",
    "                                            stop_loss_price,\n",
    "                                            client_market_order_id)\n",
    "\n",
    "# Keep in mind that if price changed since the Predicto Trade Pick generation  (very possible due to pre-market and after-hours activity)\n",
    "# then target price and stop loss prices will be re-adjusted, and order will only be submitted if it makes sense\n",
    "# e.g. if action is BUY and entry price is more than expected we'll cancel,\n",
    "#      if action is BUY and entry price is less than expected we'll go through, etc\n",
    "# (more details on this logic in AlpacaApiWrapper.validate_latest_price_and_stoploss method)\n",
    "\n",
    "# unpack market order result\n",
    "if market_order_result:\n",
    "    (marker_order, newStartingPrice, newTargetPrice, newStopLossPrice, newQuantity) = market_order_result\n",
    "    \n",
    "    print()\n",
    "    print('Order details')\n",
    "    print('newStartingPrice : ', newStartingPrice)\n",
    "    print('newTargetPrice   : ', newTargetPrice)\n",
    "    print('newStopLossPrice : ', newStopLossPrice)\n",
    "    print('newQuantity      : ', newQuantity)\n",
    "    \n",
    "    print()\n",
    "    print(market_order_result)"
   ]
  },
  {
   "cell_type": "markdown",
   "metadata": {},
   "source": [
    "### Note that market order entry price and stop loss price have been readjusted before making the order to match latest prices. \n",
    "Expected price: 210.35 but Actual price: 212.22\n",
    "\n",
    "\n"
   ]
  },
  {
   "cell_type": "markdown",
   "metadata": {},
   "source": [
    "### Step 2 of 2: Hedge our Trade Pick using target price and stop loss order\n",
    "We can do this using an OCO order (one-cancels-other). For more info check alpaca api [relevant documentation](https://alpaca.markets/docs/trading-on-alpaca/orders/#:~:text=OCO%20Orders,only%20exit%20order%20is%20supported.)\n",
    "\n",
    "If you see any error, check the error msg. For example, you can only submit oco orders for market orders that have been already filled!"
   ]
  },
  {
   "cell_type": "code",
   "execution_count": 19,
   "metadata": {},
   "outputs": [
    {
     "name": "stdout",
     "output_type": "stream",
     "text": [
      "Success: open_oco_position ID: cdf61261-f8b9-4a1f-a4ed-55ae7ebac750\n",
      "\n",
      "Order({   'asset_class': 'us_equity',\n",
      "    'asset_id': '4f5baf1e-0e9b-4d85-b88a-d874dc4a3c42',\n",
      "    'canceled_at': None,\n",
      "    'client_order_id': 'Predicto__2020-11-30_V_1_oco',\n",
      "    'created_at': '2020-12-01T18:53:45.346548Z',\n",
      "    'expired_at': None,\n",
      "    'extended_hours': False,\n",
      "    'failed_at': None,\n",
      "    'filled_at': None,\n",
      "    'filled_avg_price': None,\n",
      "    'filled_qty': '0',\n",
      "    'hwm': None,\n",
      "    'id': 'cdf61261-f8b9-4a1f-a4ed-55ae7ebac750',\n",
      "    'legs': [   {   'asset_class': 'us_equity',\n",
      "                    'asset_id': '4f5baf1e-0e9b-4d85-b88a-d874dc4a3c42',\n",
      "                    'canceled_at': None,\n",
      "                    'client_order_id': 'ef2ccc05-76e1-46f9-8e23-150e9d196396',\n",
      "                    'created_at': '2020-12-01T18:53:45.346548Z',\n",
      "                    'expired_at': None,\n",
      "                    'extended_hours': False,\n",
      "                    'failed_at': None,\n",
      "                    'filled_at': None,\n",
      "                    'filled_avg_price': None,\n",
      "                    'filled_qty': '0',\n",
      "                    'hwm': None,\n",
      "                    'id': '78ce4a5c-b2d0-47f4-a708-58a225cbe9fd',\n",
      "                    'legs': None,\n",
      "                    'limit_price': None,\n",
      "                    'order_class': 'oco',\n",
      "                    'order_type': 'stop',\n",
      "                    'qty': '4',\n",
      "                    'replaced_at': None,\n",
      "                    'replaced_by': None,\n",
      "                    'replaces': None,\n",
      "                    'side': 'sell',\n",
      "                    'status': 'held',\n",
      "                    'stop_price': '211.3656364018686',\n",
      "                    'submitted_at': '2020-12-01T18:53:45.344929Z',\n",
      "                    'symbol': 'V',\n",
      "                    'time_in_force': 'gtc',\n",
      "                    'trail_percent': None,\n",
      "                    'trail_price': None,\n",
      "                    'type': 'stop',\n",
      "                    'updated_at': '2020-12-01T18:53:45.346548Z'}],\n",
      "    'limit_price': '213.73',\n",
      "    'order_class': 'oco',\n",
      "    'order_type': 'limit',\n",
      "    'qty': '4',\n",
      "    'replaced_at': None,\n",
      "    'replaced_by': None,\n",
      "    'replaces': None,\n",
      "    'side': 'sell',\n",
      "    'status': 'accepted',\n",
      "    'stop_price': None,\n",
      "    'submitted_at': '2020-12-01T18:53:45.344929Z',\n",
      "    'symbol': 'V',\n",
      "    'time_in_force': 'gtc',\n",
      "    'trail_percent': None,\n",
      "    'trail_price': None,\n",
      "    'type': 'limit',\n",
      "    'updated_at': '2020-12-01T18:53:45.349597Z'})\n"
     ]
    }
   ],
   "source": [
    "if market_order_result and marker_order:\n",
    "    # Create a client order id, for easy tracking\n",
    "    client_oco_order_id = 'Predicto__{0}_{1}_{2}_oco'.format(generated_date, symbol, trade_action)\n",
    "\n",
    "    # submit the order to alpaca (oco order will go through only if above market order was filled successfully)\n",
    "    oco_order_result = alpaca_wrapper.open_oco_position(\n",
    "                                            marker_order.id, \n",
    "                                            symbol, \n",
    "                                            newTargetPrice, \n",
    "                                            newStopLossPrice, \n",
    "                                            client_oco_order_id)\n",
    "\n",
    "    # inspect\n",
    "    print()\n",
    "    print(oco_order_result)\n",
    "else:\n",
    "    print(\"Market order not found\")"
   ]
  },
  {
   "cell_type": "markdown",
   "metadata": {},
   "source": [
    "### If everything went according to plan and market order was filled, we should see the new V position in holding positions\n",
    "And there it is - we now have 4 shares of V (matching our maximum investment amount of: 4 shares * \\\\$212.22 <= \\\\$1000)"
   ]
  },
  {
   "cell_type": "code",
   "execution_count": 20,
   "metadata": {},
   "outputs": [
    {
     "name": "stdout",
     "output_type": "stream",
     "text": [
      "Holding 116 shares of WORK\n",
      "Holding 4 shares of V\n",
      "Holding 128 shares of LYFT\n",
      "Holding -41 shares of JPM\n",
      "Holding -102 shares of INTC\n",
      "Holding -111 shares of GM\n",
      "Holding -249 shares of DBX\n",
      "Holding -122 shares of DAL\n",
      "Holding -18 shares of BABA\n",
      "Holding 1 shares of AMZN\n",
      "Holding -336 shares of AAL\n"
     ]
    }
   ],
   "source": [
    "positions = alpaca_wrapper.get_holding_positions()"
   ]
  },
  {
   "cell_type": "markdown",
   "metadata": {},
   "source": [
    "## And this was a very simple example on how to use Predicto forecasts and Trade Picks with Alpaca API!\n",
    "For robust systems, it's very important to handle all errors and always verify occasionally that there are no orphan orders. ideally using some kind of automated supervisor. But this is out of scope for this notebook."
   ]
  },
  {
   "cell_type": "markdown",
   "metadata": {},
   "source": [
    "### As a last example and exercise\n",
    "### Here is how to get latest forecasts with a predicted absolute move >= 3%\n",
    "You can filter based on several fields of the prediction and decide which trade picks you want to submit\n",
    "\n",
    "Feel free to experiment with difference fields"
   ]
  },
  {
   "cell_type": "code",
   "execution_count": 37,
   "metadata": {},
   "outputs": [
    {
     "name": "stdout",
     "output_type": "stream",
     "text": [
      "Expected change for AAL is -0.10 !\n",
      "Expected change for DBX is -0.04 !\n",
      "Expected change for UBER is -0.03 !\n"
     ]
    }
   ],
   "source": [
    "# retrieve all supported stocks\n",
    "stocks_json = predicto_api_wrapper.get_supported_tickers()\n",
    "stocks_df = pd.DataFrame(stocks_json)\n",
    "\n",
    "# our predicted move threshold\n",
    "abs_change_pct_threshold = 0.03\n",
    "\n",
    "# iterate and check for the ones with >= 3% predicted abs change\n",
    "sdate = (datetime.today() - timedelta(days=1)).strftime('%Y-%m-%d')\n",
    "for symbol in stocks_df.RelatedStock:\n",
    "    try:\n",
    "        (forecast_json, tp_json) = predicto_api_wrapper.get_forecast_and_tradepick_info(symbol, sdate, False)\n",
    "        change_pct = (tp_json['TargetSellPrice'] - tp_json['StartingPrice']) / tp_json['StartingPrice']\n",
    "\n",
    "        if abs(change_pct) >= abs_change_pct_threshold:\n",
    "            print('Expected change for {0} is {1:.2f} !'.format(symbol, change_pct))\n",
    "\n",
    "            # do more filtering and inspections here\n",
    "            # ...\n",
    "            # If all looks good you can:\n",
    "            # - Go ahead and submit market order here using examples above\n",
    "            # - Go ahead and open oco position for market order here using examples above\n",
    "        \n",
    "        # make sure you sleep a bit to avoid hitting api limit\n",
    "        time.sleep(1)\n",
    "            \n",
    "    except Exception:\n",
    "        pass"
   ]
  }
 ],
 "metadata": {
  "kernelspec": {
   "display_name": "predicto_v1_38",
   "language": "python",
   "name": "predicto_v1_38"
  },
  "language_info": {
   "codemirror_mode": {
    "name": "ipython",
    "version": 3
   },
   "file_extension": ".py",
   "mimetype": "text/x-python",
   "name": "python",
   "nbconvert_exporter": "python",
   "pygments_lexer": "ipython3",
   "version": "3.8.5"
  }
 },
 "nbformat": 4,
 "nbformat_minor": 2
}
