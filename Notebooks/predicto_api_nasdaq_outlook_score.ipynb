{
 "cells": [
  {
   "cell_type": "markdown",
   "metadata": {},
   "source": [
    "## Predicto api - Follow Nasdaq Outlook Score\n",
    "Sample usage to retrieve latest Nasdaq outlook score programmatically (https://predic.to)\n",
    "\n",
    "To use predicto api and reproduce this notebook, you'll need to have a valid Predicto account. \n",
    "If you don't have one, you can create one here: https://predic.to and get a free trial period.\n",
    "\n",
    "To authenticate you'll need an api key. To retrieve it, login to https://predic.to and head to your [settings page](https://predic.to/account). Then paste it in the `predicto_api_key` variable below.\n",
    "\n",
    "If you get any exception/error while running below code, please make sure your api key is correct and your subscription/trial is not expired.\n",
    "Please note that there is a limit to the number of requests you can make per minute, depending on your account type."
   ]
  },
  {
   "cell_type": "markdown",
   "metadata": {},
   "source": [
    "### Import needed packages"
   ]
  },
  {
   "cell_type": "code",
   "execution_count": 1,
   "metadata": {},
   "outputs": [],
   "source": [
    "import sys\n",
    "sys.path.append(\"../predicto_api/\")\n",
    "\n",
    "import requests\n",
    "import pandas as pd\n",
    "import matplotlib.pyplot as plt\n",
    "from datetime import datetime, timedelta\n",
    "import IPython.display as display\n",
    "\n",
    "from predicto_api_wrapper import PredictoApiWrapper, TradeAction"
   ]
  },
  {
   "cell_type": "markdown",
   "metadata": {},
   "source": [
    "### Prepare and initialize our Predicto wrapper\n",
    "You'll need to have a valid Predicto account as mentioned above, and get an api key. Then replace the `predicto_api_key` variable below"
   ]
  },
  {
   "cell_type": "code",
   "execution_count": 8,
   "metadata": {},
   "outputs": [],
   "source": [
    "predicto_api_key = 'xxxxxxxxxxxxxxxxxxxxxxxxxxxxxxxxxxxxxx'\n",
    "predicto_api_wrapper = PredictoApiWrapper(predicto_api_key)"
   ]
  },
  {
   "cell_type": "markdown",
   "metadata": {},
   "source": [
    "### Let's start by retrieving latest Nasdaq Outlook Score\n",
    "We generate forecasts and trade picks for a limited amount of stocks for the time being"
   ]
  },
  {
   "cell_type": "code",
   "execution_count": 7,
   "metadata": {},
   "outputs": [
    {
     "data": {
      "text/plain": [
       "{'GoingDownMean': -0.012874223009800387,\n",
       " 'GoingDownTotal': 8,\n",
       " 'GoingUpMean': 0.010137644742666858,\n",
       " 'GoingUpTotal': 20,\n",
       " 'OutlookScore': 0.5}"
      ]
     },
     "execution_count": 7,
     "metadata": {},
     "output_type": "execute_result"
    }
   ],
   "source": [
    "# get latest Predicto Nasdaq Outlook Score\n",
    "outlook_json = predicto_api_wrapper.get_nasdaq_outlook_score(None)\n",
    "outlook_json"
   ]
  },
  {
   "cell_type": "markdown",
   "metadata": {},
   "source": [
    "### Let's plot the Predicto Market Outlook Score for the last 15 days"
   ]
  },
  {
   "cell_type": "code",
   "execution_count": 6,
   "metadata": {},
   "outputs": [
    {
     "name": "stdout",
     "output_type": "stream",
     "text": [
      "Nasdaq Outlook Score for 2021-01-08 is -0.1\n",
      "Nasdaq Outlook Score for 2021-01-09 is -0.1\n",
      "Nasdaq Outlook Score for 2021-01-10 is -0.2\n",
      "Nasdaq Outlook Score for 2021-01-11 is -0.2\n",
      "Nasdaq Outlook Score for 2021-01-12 is -0.4\n",
      "Nasdaq Outlook Score for 2021-01-13 is -0.4\n",
      "Nasdaq Outlook Score for 2021-01-14 is -0.3\n",
      "Nasdaq Outlook Score for 2021-01-15 is -0.0\n",
      "Nasdaq Outlook Score for 2021-01-16 is -0.0\n",
      "Nasdaq Outlook Score for 2021-01-17 is -0.0\n",
      "Nasdaq Outlook Score for 2021-01-18 is -0.1\n",
      "Nasdaq Outlook Score for 2021-01-19 is 0.3\n",
      "Nasdaq Outlook Score for 2021-01-20 is 0.4\n",
      "Nasdaq Outlook Score for 2021-01-21 is 0.4\n",
      "Nasdaq Outlook Score for 2021-01-22 is 0.5\n",
      "Nasdaq Outlook Score for 2021-01-23 is 0.0\n"
     ]
    },
    {
     "data": {
      "text/plain": [
       "[<matplotlib.lines.Line2D at 0x14973fc6c40>]"
      ]
     },
     "execution_count": 6,
     "metadata": {},
     "output_type": "execute_result"
    },
    {
     "data": {
      "image/png": "[encoded data removed]",
      "text/plain": [
       "<Figure size 432x288 with 1 Axes>"
      ]
     },
     "metadata": {
      "needs_background": "light"
     },
     "output_type": "display_data"
    }
   ],
   "source": [
    "go_back_days = 15\n",
    "from_date = (datetime.today() - timedelta(days=go_back_days)).strftime('%Y-%m-%d')\n",
    "end_date = datetime.today().strftime('%Y-%m-%d')\n",
    "\n",
    "outlook_scores = []\n",
    "date_range = pd.date_range(from_date, end_date, freq='1D')\n",
    "date_range = date_range.map(lambda x: x.strftime('%Y-%m-%d'))\n",
    "\n",
    "for sdate in date_range:\n",
    "    outlook_json = predicto_api_wrapper.get_nasdaq_outlook_score(sdate)\n",
    "    outlook_scores.append(outlook_json['OutlookScore'])\n",
    "    print('Nasdaq Outlook Score for {0} is {1}'.format(sdate, outlook_json['OutlookScore']))\n",
    "    \n",
    "# plot it\n",
    "plt.title(\"Predicto Nasdaq Outlook Score for last {0} days\".format(go_back_days))\n",
    "plt.plot(outlook_scores)"
   ]
  }
 ],
 "metadata": {
  "kernelspec": {
   "display_name": "predicto_v1_38",
   "language": "python",
   "name": "predicto_v1_38"
  },
  "language_info": {
   "codemirror_mode": {
    "name": "ipython",
    "version": 3
   },
   "file_extension": ".py",
   "mimetype": "text/x-python",
   "name": "python",
   "nbconvert_exporter": "python",
   "pygments_lexer": "ipython3",
   "version": "3.8.5"
  }
 },
 "nbformat": 4,
 "nbformat_minor": 2
}
